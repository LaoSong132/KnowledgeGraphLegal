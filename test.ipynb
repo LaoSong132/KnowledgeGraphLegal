{
 "cells": [
  {
   "cell_type": "code",
   "execution_count": 1,
   "metadata": {},
   "outputs": [
    {
     "name": "stderr",
     "output_type": "stream",
     "text": [
      "Downloading: 100%|██████████| 2.00/2.00 [00:00<00:00, 2.11kB/s]\n",
      "Downloading: 100%|██████████| 0.99k/0.99k [00:00<00:00, 3.56MB/s]\n",
      "Downloading: 100%|██████████| 217k/217k [00:00<00:00, 2.47MB/s]\n",
      "Downloading: 100%|██████████| 112/112 [00:00<00:00, 248kB/s]\n"
     ]
    }
   ],
   "source": [
    "from transformers import AutoTokenizer, AutoModelForPreTraining\n",
    "  \n",
    "tokenizer = AutoTokenizer.from_pretrained(\"nlpaueb/legal-bert-small-uncased\")\n",
    "\n",
    "model = AutoModelForPreTraining.from_pretrained(\"nlpaueb/legal-bert-small-uncased\")"
   ]
  },
  {
   "cell_type": "code",
   "execution_count": null,
   "metadata": {},
   "outputs": [],
   "source": []
  }
 ],
 "metadata": {
  "interpreter": {
   "hash": "673a99767848cb7d35ee205e5e64298b812442fab0c68f5f28d800550018a90d"
  },
  "kernelspec": {
   "display_name": "Python 3.8.8 64-bit ('base': conda)",
   "language": "python",
   "name": "python3"
  },
  "language_info": {
   "codemirror_mode": {
    "name": "ipython",
    "version": 3
   },
   "file_extension": ".py",
   "mimetype": "text/x-python",
   "name": "python",
   "nbconvert_exporter": "python",
   "pygments_lexer": "ipython3",
   "version": "3.8.8"
  },
  "orig_nbformat": 4
 },
 "nbformat": 4,
 "nbformat_minor": 2
}
